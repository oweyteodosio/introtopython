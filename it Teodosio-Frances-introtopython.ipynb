{
 "cells": [
  {
   "cell_type": "markdown",
   "metadata": {},
   "source": [
    "# 194964\n",
    "# Teodosio\n",
    "# 2 BS ITE"
   ]
  },
  {
   "cell_type": "code",
   "execution_count": 8,
   "metadata": {},
   "outputs": [
    {
     "name": "stdout",
     "output_type": "stream",
     "text": [
      "Enter First Number:  4\n",
      "Enter Second Number:  3\n",
      "Enter Third Number:  5\n",
      "Average is 4.0\n"
     ]
    }
   ],
   "source": [
    "firstnumber = int(input(\"Enter First Number:  \"))\n",
    "secondnumber = int(input(\"Enter Second Number:  \"))\n",
    "thirdnumber = int(input(\"Enter Third Number:  \"))\n",
    "tnt = firstnumber + secondnumber + thirdnumber\n",
    "three_number_average = tnt / 3\n",
    "print('Average is', three_number_average)"
   ]
  },
  {
   "cell_type": "code",
   "execution_count": null,
   "metadata": {},
   "outputs": [],
   "source": []
  }
 ],
 "metadata": {
  "kernelspec": {
   "display_name": "Python 3",
   "language": "python",
   "name": "python3"
  },
  "language_info": {
   "codemirror_mode": {
    "name": "ipython",
    "version": 3
   },
   "file_extension": ".py",
   "mimetype": "text/x-python",
   "name": "python",
   "nbconvert_exporter": "python",
   "pygments_lexer": "ipython3",
   "version": "3.8.3"
  }
 },
 "nbformat": 4,
 "nbformat_minor": 4
}
