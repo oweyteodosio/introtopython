{
 "cells": [
  {
   "cell_type": "markdown",
   "metadata": {},
   "source": [
    "# 194964\n",
    "# Teodosio \n",
    "# 2 BS ITE"
   ]
  },
  {
   "cell_type": "code",
   "execution_count": 4,
   "metadata": {},
   "outputs": [
    {
     "name": "stdout",
     "output_type": "stream",
     "text": [
      "Enter Amount in US Dollars:  40\n",
      "40 US Dollar(s) = 2000 Pesos\n"
     ]
    }
   ],
   "source": [
    "# US to Peso Conversion\n",
    "\n",
    "usd = int(input('Enter Amount in US Dollars:  '))\n",
    "usd2 = int(usd)\n",
    "php = 50\n",
    "conversion = usd * 50\n",
    "print(usd2, 'US Dollar(s) =', conversion, 'Pesos')"
   ]
  },
  {
   "cell_type": "code",
   "execution_count": 10,
   "metadata": {},
   "outputs": [
    {
     "name": "stdout",
     "output_type": "stream",
     "text": [
      "First Number:  55\n",
      "Second Number: 3\n",
      "58\n",
      "52\n",
      "165\n",
      "18\n",
      "1\n"
     ]
    }
   ],
   "source": [
    "# Arithmetic Operations\n",
    "\n",
    "a = int(input('First Number:  '))\n",
    "b = int(input('Second Number: '))\n",
    "print(a + b)\n",
    "print(abs(b - a))\n",
    "print(a * b)\n",
    "print(a//b)\n",
    "print(a%b)"
   ]
  },
  {
   "cell_type": "code",
   "execution_count": 13,
   "metadata": {},
   "outputs": [
    {
     "name": "stdout",
     "output_type": "stream",
     "text": [
      "Enter kg:  65\n",
      "Enter cm:  180\n",
      "BMI: 20.061728395061728\n"
     ]
    }
   ],
   "source": [
    "# Calculating BMI\n",
    "\n",
    "kg = (int(input('Enter kg:  ')))\n",
    "cm = (int(input('Enter cm:  ')))\n",
    "convert_cm_to_m = cm / 100\n",
    "compute_bmi = kg / convert_cm_to_m**2\n",
    "print('BMI:',compute_bmi)"
   ]
  },
  {
   "cell_type": "code",
   "execution_count": null,
   "metadata": {},
   "outputs": [],
   "source": []
  }
 ],
 "metadata": {
  "kernelspec": {
   "display_name": "Python 3",
   "language": "python",
   "name": "python3"
  },
  "language_info": {
   "codemirror_mode": {
    "name": "ipython",
    "version": 3
   },
   "file_extension": ".py",
   "mimetype": "text/x-python",
   "name": "python",
   "nbconvert_exporter": "python",
   "pygments_lexer": "ipython3",
   "version": "3.8.3"
  }
 },
 "nbformat": 4,
 "nbformat_minor": 4
}
